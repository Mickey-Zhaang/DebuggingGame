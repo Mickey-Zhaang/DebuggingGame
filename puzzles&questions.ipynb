{
 "cells": [
  {
   "cell_type": "markdown",
   "metadata": {},
   "source": [
    "<h1>Tutorial Questions</h1>"
   ]
  },
  {
   "cell_type": "markdown",
   "metadata": {},
   "source": [
    "```md\n",
    "Bad printing\n",
    "# which of the following correctly fixes the bug:\n",
    "    print(hello world!)\n",
    "\n",
    "A: print('hello world!\")\n",
    "B: print\"(hello world!)\"\n",
    "C: print(\"hello world!\")\n",
    "D: print(\"hello world!\");\n",
    "```"
   ]
  },
  {
   "cell_type": "markdown",
   "metadata": {},
   "source": [
    "```md\n",
    "# (Easy) Classic \"forgot-to-define-var-experience\"\n",
    "\n",
    "Fix the below program:\n",
    "\n",
    "    ---\n",
    "    if x == 1:\n",
    "        print(\"x is 1!\")\n",
    "    else:\n",
    "        print(\"x is not 1!\")\n",
    "    ---\n",
    "```"
   ]
  },
  {
   "cell_type": "code",
   "execution_count": 2,
   "metadata": {},
   "outputs": [],
   "source": [
    "# Write code below"
   ]
  },
  {
   "cell_type": "markdown",
   "metadata": {},
   "source": [
    "```md\n",
    "# (Easy) When = or == ?\n",
    "\n",
    "Fix the below program:\n",
    "\n",
    "    ---\n",
    "    number == 1\n",
    "\n",
    "    if number = 1:\n",
    "        print(\"number = 1\")\n",
    "    else:\n",
    "        print(\"number != 1\")\n",
    "    ---\n",
    "```"
   ]
  },
  {
   "cell_type": "code",
   "execution_count": null,
   "metadata": {},
   "outputs": [],
   "source": [
    "# Write code below"
   ]
  },
  {
   "cell_type": "markdown",
   "metadata": {},
   "source": [
    "```md\n",
    "# (Easy) We've all done it before...\n",
    "\n",
    "Fix the below program:\n",
    "\n",
    "    ---\n",
    "    print(\"Starting Program\")\n",
    "    x = 1\n",
    "    y = 2\n",
    "\n",
    "    if x != y\n",
    "        print(\"x and y are not the same\")\n",
    "    else: \n",
    "        print(\"x and y are the same\")\n",
    "    ---\n",
    "```"
   ]
  },
  {
   "cell_type": "code",
   "execution_count": null,
   "metadata": {},
   "outputs": [],
   "source": [
    "# Write code below"
   ]
  },
  {
   "cell_type": "markdown",
   "metadata": {},
   "source": [
    "```md\n",
    "# (Medium) Nice, you broke your computer\n",
    "\n",
    "Fix the below program :\n",
    "\n",
    "    ---\n",
    "    count = 0\n",
    "\n",
    "    while count > -1:\n",
    "        count += 1\n",
    "        print(f\"Count is now: {count}\") # <--LEARN F STRINGS AS WELL\n",
    "    ---\n",
    "```"
   ]
  },
  {
   "cell_type": "code",
   "execution_count": 11,
   "metadata": {},
   "outputs": [],
   "source": [
    "# Write code below"
   ]
  },
  {
   "cell_type": "markdown",
   "metadata": {},
   "source": [
    "```md\n",
    "# (Medium) Off by one again?\n",
    "\n",
    "Fix the below program:\n",
    "\n",
    "    ---\n",
    "    my_list = [1, 2, 3, 4, 5]\n",
    "\n",
    "    for i in range(len(my_list) + 1):\n",
    "        print(my_list[i])\n",
    "    ---\n",
    "```"
   ]
  },
  {
   "cell_type": "code",
   "execution_count": null,
   "metadata": {},
   "outputs": [],
   "source": [
    "# Write code below"
   ]
  },
  {
   "cell_type": "markdown",
   "metadata": {},
   "source": [
    "```md\n",
    "# (Hard) counter-strike?\n",
    "\n",
    "Fix the below program (deletion and moving around the code is helpful):\n",
    "\n",
    "    ---\n",
    "    my_list = [1, 0, 1, 0, 0, 0, 1, 0, 1]\n",
    "    number_of_ones = 0\n",
    "\n",
    "    for x in my_list:\n",
    "        if x == 0:\n",
    "            number_of_ones += 0\n",
    "        else:\n",
    "            number_of_ones = 1\n",
    "        number_of_ones += 1\n",
    "    ---\n",
    "```"
   ]
  },
  {
   "cell_type": "code",
   "execution_count": 6,
   "metadata": {},
   "outputs": [],
   "source": [
    "# Write code below"
   ]
  }
 ],
 "metadata": {
  "kernelspec": {
   "display_name": "Python 3",
   "language": "python",
   "name": "python3"
  },
  "language_info": {
   "codemirror_mode": {
    "name": "ipython",
    "version": 3
   },
   "file_extension": ".py",
   "mimetype": "text/x-python",
   "name": "python",
   "nbconvert_exporter": "python",
   "pygments_lexer": "ipython3",
   "version": "3.11.9"
  }
 },
 "nbformat": 4,
 "nbformat_minor": 2
}
